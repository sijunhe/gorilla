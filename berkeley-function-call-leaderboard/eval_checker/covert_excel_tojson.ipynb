{
 "cells": [
  {
   "cell_type": "code",
   "execution_count": 1,
   "metadata": {},
   "outputs": [],
   "source": [
    "import pandas as pd\n",
    "import json\n",
    "\n",
    "def clean_and_convert_excel_to_jsonl(file_path, output_path):\n",
    "    # Load the Excel file\n",
    "    excel_data = pd.read_excel(file_path)\n",
    "\n",
    "    # Function to clean and convert the string representation of lists/dicts\n",
    "    def clean_data(record):\n",
    "        cleaned_record = {}\n",
    "        for key, value in record.items():\n",
    "            cleaned_value = json.loads(value)\n",
    "            cleaned_record[key] = cleaned_value\n",
    "        return cleaned_record\n",
    "\n",
    "    # Clean the data\n",
    "    jsonl_data = excel_data.to_dict(orient='records')\n",
    "    cleaned_jsonl_data = [clean_data(record) for record in jsonl_data]\n",
    "\n",
    "    # Write the cleaned JSONL file\n",
    "    with open(output_path, 'w') as jsonl_file:\n",
    "        for record in cleaned_jsonl_data:\n",
    "            jsonl_file.write(json.dumps(record, ensure_ascii=False) + '\\n')\n",
    "\n",
    "# Define file paths\n",
    "file_path = 'gorilla_test.xlsx'\n",
    "output_path = 'original_yewu_file.jsonl'\n",
    "\n",
    "# Execute the function\n",
    "clean_and_convert_excel_to_jsonl(file_path, output_path)\n"
   ]
  },
  {
   "cell_type": "code",
   "execution_count": 2,
   "metadata": {},
   "outputs": [
    {
     "ename": "NameError",
     "evalue": "name 'false' is not defined",
     "output_type": "error",
     "traceback": [
      "\u001b[0;31m---------------------------------------------------------------------------\u001b[0m",
      "\u001b[0;31mNameError\u001b[0m                                 Traceback (most recent call last)",
      "Cell \u001b[0;32mIn[2], line 1\u001b[0m\n\u001b[0;32m----> 1\u001b[0m data \u001b[38;5;241m=\u001b[39m {\u001b[38;5;124m\"\u001b[39m\u001b[38;5;124mlibrary.search_book\u001b[39m\u001b[38;5;124m\"\u001b[39m:{\u001b[38;5;124m\"\u001b[39m\u001b[38;5;124mbook_name\u001b[39m\u001b[38;5;124m\"\u001b[39m:[\u001b[38;5;124m\"\u001b[39m\u001b[38;5;124mThe Alchemist\u001b[39m\u001b[38;5;124m\"\u001b[39m],\u001b[38;5;124m\"\u001b[39m\u001b[38;5;124mcity\u001b[39m\u001b[38;5;124m\"\u001b[39m:[\u001b[38;5;124m\"\u001b[39m\u001b[38;5;124mNew York\u001b[39m\u001b[38;5;124m\"\u001b[39m,\u001b[38;5;124m\"\u001b[39m\u001b[38;5;124mNew York, NY\u001b[39m\u001b[38;5;124m\"\u001b[39m,\u001b[38;5;124m\"\u001b[39m\u001b[38;5;124mNew York City\u001b[39m\u001b[38;5;124m\"\u001b[39m,\u001b[38;5;124m\"\u001b[39m\u001b[38;5;124mNYC\u001b[39m\u001b[38;5;124m\"\u001b[39m,\u001b[38;5;124m\"\u001b[39m\u001b[38;5;124mNY\u001b[39m\u001b[38;5;124m\"\u001b[39m],\u001b[38;5;124m\"\u001b[39m\u001b[38;5;124mavailability\u001b[39m\u001b[38;5;124m\"\u001b[39m:[\u001b[38;5;124m\"\u001b[39m\u001b[38;5;124m\"\u001b[39m,\u001b[43mfalse\u001b[49m],\u001b[38;5;124m\"\u001b[39m\u001b[38;5;124mgenre\u001b[39m\u001b[38;5;124m\"\u001b[39m:[\u001b[38;5;124m\"\u001b[39m\u001b[38;5;124m\"\u001b[39m]}}\n\u001b[1;32m      3\u001b[0m \u001b[38;5;28mlist\u001b[39m(data\u001b[38;5;241m.\u001b[39mvalues())[\u001b[38;5;241m0\u001b[39m]\n",
      "\u001b[0;31mNameError\u001b[0m: name 'false' is not defined"
     ]
    }
   ],
   "source": [
    "data = {\"library.search_book\":{\"book_name\":[\"The Alchemist\"],\"city\":[\"New York\",\"New York, NY\",\"New York City\",\"NYC\",\"NY\"],\"availability\":[\"\",false],\"genre\":[\"\"]}}\n",
    "\n",
    "list(data.values())[0]\n"
   ]
  },
  {
   "cell_type": "code",
   "execution_count": 3,
   "metadata": {},
   "outputs": [
    {
     "name": "stdout",
     "output_type": "stream",
     "text": [
      "invalid_param\n"
     ]
    }
   ],
   "source": [
    "possible_answer = {'invalid_param': ['NBA']}\n",
    "\n",
    "for param in possible_answer:\n",
    "    print(param)\n"
   ]
  },
  {
   "cell_type": "code",
   "execution_count": null,
   "metadata": {},
   "outputs": [],
   "source": []
  }
 ],
 "metadata": {
  "kernelspec": {
   "display_name": "BFCL",
   "language": "python",
   "name": "python3"
  },
  "language_info": {
   "codemirror_mode": {
    "name": "ipython",
    "version": 3
   },
   "file_extension": ".py",
   "mimetype": "text/x-python",
   "name": "python",
   "nbconvert_exporter": "python",
   "pygments_lexer": "ipython3",
   "version": "3.10.13"
  }
 },
 "nbformat": 4,
 "nbformat_minor": 2
}
