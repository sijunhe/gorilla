{
 "cells": [
  {
   "cell_type": "code",
   "execution_count": 11,
   "metadata": {},
   "outputs": [
    {
     "name": "stdout",
     "output_type": "stream",
     "text": [
      "ChatCompletion(id='chatcmpl-9accrUmukI9PCgxxaAAfUMacB2mnc', choices=[Choice(finish_reason='tool_calls', index=0, logprobs=None, message=ChatCompletionMessage(content=None, role='assistant', function_call=None, tool_calls=[ChatCompletionMessageToolCall(id='call_qjrXNmeCt59FCqjZmYQFnG1u', function=Function(arguments='{\"location\":\"Boston, MA\"}', name='get_current_weather'), type='function')]))], created=1718515313, model='gpt-4o-2024-05-13', object='chat.completion', system_fingerprint='fp_319be4768e', usage=CompletionUsage(completion_tokens=17, prompt_tokens=80, total_tokens=97))\n"
     ]
    }
   ],
   "source": [
    "from openai import OpenAI\n",
    "import json\n",
    "\n",
    "client = OpenAI()\n",
    "\n",
    "\n",
    "MODEL = \"gpt-4o-2024-05-13-FC\"\n",
    "\n",
    "\n",
    "tools = [\n",
    "  {\n",
    "    \"type\": \"function\",\n",
    "    \"function\": {\n",
    "      \"name\": \"get_current_weather\",\n",
    "      \"description\": \"Get the current weather in a given location\",\n",
    "      \"parameters\": {\n",
    "        \"type\": \"object\",\n",
    "        \"properties\": {\n",
    "          \"location\": {\n",
    "            \"type\": \"string\",\n",
    "            \"description\": \"The city and state, e.g. San Francisco, CA\",\n",
    "          },\n",
    "          \"unit\": {\"type\": \"string\", \"enum\": [\"celsius\", \"fahrenheit\"]},\n",
    "        },\n",
    "        \"required\": [\"location\"],\n",
    "      },\n",
    "    }\n",
    "  }\n",
    "]\n",
    "messages = [{\"role\": \"user\", \"content\": \"What's the weather like in Boston today?\"}]\n",
    "completion = client.chat.completions.create(\n",
    "  model=\"gpt-4o\",\n",
    "  messages=messages,\n",
    "  tools=tools,\n",
    "  tool_choice=\"auto\"\n",
    ")\n",
    "\n",
    "print(completion)\n"
   ]
  },
  {
   "cell_type": "code",
   "execution_count": 7,
   "metadata": {},
   "outputs": [
    {
     "data": {
      "text/plain": [
       "'{\"id\":\"chatcmpl-9acZDK3zIjjBshuGuCmou9bZdCJSP\",\"choices\":[{\"finish_reason\":\"tool_calls\",\"index\":0,\"logprobs\":null,\"message\":{\"content\":null,\"role\":\"assistant\",\"function_call\":null,\"tool_calls\":[{\"id\":\"call_SoRAXCuQVh9BQoHWk1BCPQdT\",\"function\":{\"arguments\":\"{\\\\\"location\\\\\":\\\\\"Boston, MA\\\\\"}\",\"name\":\"get_current_weather\"},\"type\":\"function\"}]}}],\"created\":1718515087,\"model\":\"gpt-4o-2024-05-13\",\"object\":\"chat.completion\",\"system_fingerprint\":\"fp_f4e629d0a5\",\"usage\":{\"completion_tokens\":17,\"prompt_tokens\":80,\"total_tokens\":97}}'"
      ]
     },
     "execution_count": 7,
     "metadata": {},
     "output_type": "execute_result"
    }
   ],
   "source": [
    "completion.json()"
   ]
  },
  {
   "cell_type": "code",
   "execution_count": 17,
   "metadata": {},
   "outputs": [
    {
     "data": {
      "text/plain": [
       "'tool_calls'"
      ]
     },
     "execution_count": 17,
     "metadata": {},
     "output_type": "execute_result"
    }
   ],
   "source": [
    "completion.choices[0].finish_reason"
   ]
  },
  {
   "cell_type": "code",
   "execution_count": 23,
   "metadata": {},
   "outputs": [
    {
     "data": {
      "text/plain": [
       "'{\"content\":null,\"role\":\"assistant\",\"function_call\":null,\"tool_calls\":[{\"id\":\"call_qjrXNmeCt59FCqjZmYQFnG1u\",\"function\":{\"arguments\":\"{\\\\\"location\\\\\":\\\\\"Boston, MA\\\\\"}\",\"name\":\"get_current_weather\"},\"type\":\"function\"}]}'"
      ]
     },
     "execution_count": 23,
     "metadata": {},
     "output_type": "execute_result"
    }
   ],
   "source": [
    "completion.choices[0].message.model_dump_json()"
   ]
  },
  {
   "cell_type": "markdown",
   "metadata": {},
   "source": [
    "### 测试non -fc直接传入返回什么"
   ]
  },
  {
   "cell_type": "code",
   "execution_count": 25,
   "metadata": {},
   "outputs": [],
   "source": [
    "SYSTEM_PROMPT_FOR_CHAT_MODEL = \"\"\"\n",
    "    You are an expert in composing functions. You are given a question and a set of possible functions. \n",
    "    Based on the question, you will need to make one or more function/tool calls to achieve the purpose. \n",
    "    If none of the function can be used, point it out. If the given question lacks the parameters required by the function,\n",
    "    also point it out. You should only return the function call in tools call sections.\n",
    "    \"\"\"\n",
    "\n",
    "USER_PROMPT_FOR_CHAT_MODEL = \"\"\"\n",
    "    Questions:{user_prompt}\\nHere is a list of functions in JSON format that you can invoke:\\n{functions}. \n",
    "    Should you decide to return the function call(s),Put it in the format of [func1(params_name=params_value, params_name2=params_value2...), func2(params)]\\n\n",
    "    NO other text MUST be included. \"\"\""
   ]
  },
  {
   "cell_type": "code",
   "execution_count": 29,
   "metadata": {},
   "outputs": [
    {
     "data": {
      "text/plain": [
       "'Calculate the area of a circle with a radius of 5 units.'"
      ]
     },
     "execution_count": 29,
     "metadata": {},
     "output_type": "execute_result"
    }
   ],
   "source": [
    "data = {\"question\": \"Calculate the area of a circle with a radius of 5 units.\", \"function\": {\"name\": \"geometry.calculate_area_circle\", \"description\": \"Calculate the area of a circle given its radius.\", \"parameters\": {\"type\": \"dict\", \"properties\": {\"radius\": {\"type\": \"integer\", \"description\": \"The radius of the circle.\"}, \"unit\": {\"type\": \"string\", \"description\": \"The measurement unit of the radius (optional parameter, default is 'units').\"}}, \"required\": [\"radius\"]}}}\n",
    "\n",
    "# extract the question and function from the data\n",
    "question = data[\"question\"]\n",
    "function = data[\"function\"]\n",
    "\n",
    "question"
   ]
  },
  {
   "cell_type": "code",
   "execution_count": 32,
   "metadata": {},
   "outputs": [
    {
     "data": {
      "text/plain": [
       "{'name': 'geometry.calculate_area_circle',\n",
       " 'description': 'Calculate the area of a circle given its radius.',\n",
       " 'parameters': {'type': 'dict',\n",
       "  'properties': {'radius': {'type': 'integer',\n",
       "    'description': 'The radius of the circle.'},\n",
       "   'unit': {'type': 'string',\n",
       "    'description': \"The measurement unit of the radius (optional parameter, default is 'units').\"}},\n",
       "  'required': ['radius']}}"
      ]
     },
     "execution_count": 32,
     "metadata": {},
     "output_type": "execute_result"
    }
   ],
   "source": [
    "function"
   ]
  },
  {
   "cell_type": "code",
   "execution_count": 33,
   "metadata": {},
   "outputs": [
    {
     "data": {
      "text/plain": [
       "[{'name': 'geometry.calculate_area_circle',\n",
       "  'description': 'Calculate the area of a circle given its radius.',\n",
       "  'parameters': {'type': 'dict',\n",
       "   'properties': {'radius': {'type': 'integer',\n",
       "     'description': 'The radius of the circle.'},\n",
       "    'unit': {'type': 'string',\n",
       "     'description': \"The measurement unit of the radius (optional parameter, default is 'units').\"}},\n",
       "   'required': ['radius']}}]"
      ]
     },
     "execution_count": 33,
     "metadata": {},
     "output_type": "execute_result"
    }
   ],
   "source": [
    "revised_function = [function]\n",
    "revised_function"
   ]
  },
  {
   "cell_type": "code",
   "execution_count": 34,
   "metadata": {},
   "outputs": [
    {
     "data": {
      "text/plain": [
       "dict"
      ]
     },
     "execution_count": 34,
     "metadata": {},
     "output_type": "execute_result"
    }
   ],
   "source": [
    "type(function)"
   ]
  },
  {
   "cell_type": "code",
   "execution_count": 36,
   "metadata": {},
   "outputs": [
    {
     "data": {
      "text/plain": [
       "list"
      ]
     },
     "execution_count": 36,
     "metadata": {},
     "output_type": "execute_result"
    }
   ],
   "source": [
    "def language_specific_pre_processing(function, test_category, string_param):\n",
    "    if type(function) is dict:\n",
    "        function = [function]\n",
    "    if len(function) == 0:\n",
    "        return function\n",
    "    for item in function:\n",
    "        # 一旦遇到第一个item, 就会return, 所以只会处理第一个item, 本质上是funciton掏了个list，所以就是只有一个东西， 如果是java 会修改后返回，不然直接返回，还是老样子的test file的functionkey的value\n",
    "        properties = item[\"parameters\"][\"properties\"]\n",
    "        if test_category == \"java\":\n",
    "            for key, value in properties.items():\n",
    "                if value[\"type\"] == \"Any\" or value[\"type\"] == \"any\":\n",
    "                    properties[key][\n",
    "                        \"description\"\n",
    "                    ] += \"This parameter can be of any type of Java object.\"\n",
    "                    properties[key][\"description\"] += (\n",
    "                        \"This is Java\" + value[\"type\"] + \" in string representation.\"\n",
    "                    )\n",
    "        elif test_category == \"javascript\":\n",
    "            for key, value in properties.items():\n",
    "                if value[\"type\"] == \"Any\" or value[\"type\"] == \"any\":\n",
    "                    properties[key][\n",
    "                        \"description\"\n",
    "                    ] += \"This parameter can be of any type of Javascript object.\"\n",
    "                else:\n",
    "                    if \"description\" not in properties[key]:\n",
    "                        properties[key][\"description\"] = \"\"\n",
    "                    properties[key][\"description\"] += (\n",
    "                        \"This is Javascript \"\n",
    "                        + value[\"type\"]\n",
    "                        + \" in string representation.\"\n",
    "                    )\n",
    "        return function  # 单纯返回一个List(Dict)\n",
    "    \n",
    "\n",
    "processed_tools = language_specific_pre_processing(revised_function, \"simple\", False)   \n",
    "type (processed_tools)"
   ]
  },
  {
   "cell_type": "code",
   "execution_count": 72,
   "metadata": {},
   "outputs": [
    {
     "data": {
      "text/plain": [
       "[{'name': 'geometry.calculate_area_circle',\n",
       "  'description': 'Calculate the area of a circle given its radius.',\n",
       "  'parameters': {'type': 'dict',\n",
       "   'properties': {'radius': {'type': 'integer',\n",
       "     'description': 'The radius of the circle.'},\n",
       "    'unit': {'type': 'string',\n",
       "     'description': \"The measurement unit of the radius (optional parameter, default is 'units').\"}},\n",
       "   'required': ['radius']}}]"
      ]
     },
     "execution_count": 72,
     "metadata": {},
     "output_type": "execute_result"
    }
   ],
   "source": [
    "processed_tools"
   ]
  },
  {
   "cell_type": "code",
   "execution_count": 58,
   "metadata": {},
   "outputs": [],
   "source": [
    "prompt = question\n",
    "# 对于java等语言，需要在prompt中加入this is java ....\n",
    "\n",
    "# function 初始传入是个list，每个元素是一个dict，经过language_specific_pre_processing后，变成一个dict\n",
    "# 原始： [{\"name\": \"geometry.circumference\", \"description\": \"Calculate the circumference of a circle given the radius.\", \"parameters\": {\"type\": \"dict\", \"properties\": {\"radius\": {\"type\": \"integer\", \"description\": \"The radius of the circle.\"}, \"units\": {\"type\": \"string\", \"description\": \"Units for the output circumference measurement. Default is 'cm'.\"}}, \"required\": [\"radius\"]}]\n",
    "functions = processed_tools # 对于java等语言，把上面的dict的properties改一下，不重要, 反正只有一个dict包含所有东西\n",
    "message = [\n",
    "{\n",
    "    \"role\": \"system\",\n",
    "    \"content\": SYSTEM_PROMPT_FOR_CHAT_MODEL,\n",
    "},\n",
    "{\n",
    "    \"role\": \"user\",\n",
    "    \"content\": \"Questions:\"\n",
    "    + USER_PROMPT_FOR_CHAT_MODEL.format(\n",
    "        user_prompt=prompt, functions=str(functions)\n",
    "    ), # 这里的functions是一个dict，变成str\n",
    "},\n",
    "]\n",
    "\n",
    "response = client.chat.completions.create(\n",
    "messages=message,\n",
    "model=\"gpt-4o\",)\n",
    "\n",
    "\n",
    "   "
   ]
  },
  {
   "cell_type": "code",
   "execution_count": 48,
   "metadata": {},
   "outputs": [
    {
     "data": {
      "text/plain": [
       "[{'role': 'system',\n",
       "  'content': '\\n    You are an expert in composing functions. You are given a question and a set of possible functions. \\n    Based on the question, you will need to make one or more function/tool calls to achieve the purpose. \\n    If none of the function can be used, point it out. If the given question lacks the parameters required by the function,\\n    also point it out. You should only return the function call in tools call sections.\\n    '},\n",
       " {'role': 'user',\n",
       "  'content': 'Questions:\\n    Questions:Calculate the area of a circle with a radius of 5 units.\\nHere is a list of functions in JSON format that you can invoke:\\n[{\\'name\\': \\'geometry.calculate_area_circle\\', \\'description\\': \\'Calculate the area of a circle given its radius.\\', \\'parameters\\': {\\'type\\': \\'dict\\', \\'properties\\': {\\'radius\\': {\\'type\\': \\'integer\\', \\'description\\': \\'The radius of the circle.\\'}, \\'unit\\': {\\'type\\': \\'string\\', \\'description\\': \"The measurement unit of the radius (optional parameter, default is \\'units\\').\"}}, \\'required\\': [\\'radius\\']}}]. \\n    Should you decide to return the function call(s),Put it in the format of [func1(params_name=params_value, params_name2=params_value2...), func2(params)]\\n\\n    NO other text MUST be included. '}]"
      ]
     },
     "execution_count": 48,
     "metadata": {},
     "output_type": "execute_result"
    }
   ],
   "source": [
    "message"
   ]
  },
  {
   "cell_type": "code",
   "execution_count": 44,
   "metadata": {},
   "outputs": [
    {
     "data": {
      "text/plain": [
       "'{\"id\":\"chatcmpl-9ad17ot7bwPP7WKFEd1CEOQ1hBOBw\",\"choices\":[{\"finish_reason\":\"stop\",\"index\":0,\"logprobs\":null,\"message\":{\"content\":\"[geometry.calculate_area_circle(radius=5)]\",\"role\":\"assistant\",\"function_call\":null,\"tool_calls\":null}}],\"created\":1718516817,\"model\":\"gpt-4o-2024-05-13\",\"object\":\"chat.completion\",\"system_fingerprint\":\"fp_f4e629d0a5\",\"usage\":{\"completion_tokens\":9,\"prompt_tokens\":275,\"total_tokens\":284}}'"
      ]
     },
     "execution_count": 44,
     "metadata": {},
     "output_type": "execute_result"
    }
   ],
   "source": [
    "response.model_dump_json()"
   ]
  },
  {
   "cell_type": "code",
   "execution_count": 45,
   "metadata": {},
   "outputs": [
    {
     "data": {
      "text/plain": [
       "'[geometry.calculate_area_circle(radius=5)]'"
      ]
     },
     "execution_count": 45,
     "metadata": {},
     "output_type": "execute_result"
    }
   ],
   "source": [
    "result = response.choices[0].message.content\n",
    "result"
   ]
  },
  {
   "cell_type": "markdown",
   "metadata": {},
   "source": [
    "### test same thing for ernie-3.5 (Not request post for EBT)"
   ]
  },
  {
   "cell_type": "code",
   "execution_count": 41,
   "metadata": {},
   "outputs": [],
   "source": [
    "import erniebot\n",
    "erniebot.api_type = \"qianfan\"\n",
    "erniebot.ak = \"ZL94309EFgeEgJVhc9P7XlaV\"\n",
    "erniebot.sk = \"iFeQoBjv038BJMkIt3V4WQIyzFrOzcLT\""
   ]
  },
  {
   "cell_type": "code",
   "execution_count": 118,
   "metadata": {},
   "outputs": [],
   "source": [
    "# data = {\"question\": \"Calculate the area of a circle with a radius of 5 units.\", \"function\": {\"name\": \"geometry.calculate_area_circle\", \"description\": \"Calculate the area of a circle given its radius.\", \"parameters\": {\"type\": \"dict\", \"properties\": {\"radius\": {\"type\": \"integer\", \"description\": \"The radius of the circle.\"}, \"unit\": {\"type\": \"string\", \"description\": \"The measurement unit of the radius (optional parameter, default is 'units').\"}}, \"required\": [\"radius\"]}}}\n",
    "data = {\"question\": \"What is the capital of Brazil?\", \"function\": [{\"name\": \"country_info.largest_city\", \"description\": \"Fetch the largest city of a specified country.\", \"parameters\": {\"type\": \"dict\", \"properties\": {\"country\": {\"type\": \"string\", \"description\": \"Name of the country.\"}}, \"required\": [\"country\"]}}, {\"name\": \"country_info.capital\", \"description\": \"Fetch the capital city of a specified country.\", \"parameters\": {\"type\": \"dict\", \"properties\": {\"country\": {\"type\": \"string\", \"description\": \"Name of the country.\"}}, \"required\": [\"country\"]}}, {\"name\": \"country_info.population\", \"description\": \"Fetch the current population of a specified country.\", \"parameters\": {\"type\": \"dict\", \"properties\": {\"country\": {\"type\": \"string\", \"description\": \"Name of the country.\"}}, \"required\": [\"country\"]}}]}\n",
    "\n",
    "# extract the question and function from the data\n",
    "question = data[\"question\"]\n",
    "function = data[\"function\"] # a dict\n",
    "list_function = [function] # a list of dict\n",
    "# processed_tools = language_specific_pre_processing(list_function, \"multiple_functions\", False) # a list of dict\n",
    "\n",
    "ernie_message_only_tool = [\n",
    "\n",
    "{\n",
    "    \"role\": \"user\",\n",
    "    \"content\": \"Questions:\"\n",
    "    + USER_PROMPT_FOR_CHAT_MODEL.format(\n",
    "        user_prompt=question, functions=str(function)\n",
    "    )\n",
    "}\n",
    "]\n",
    "\n",
    "ernie_message_list_tool = [\n",
    "\n",
    "{\n",
    "    \"role\": \"user\",\n",
    "    \"content\": \"Questions:\"\n",
    "    + USER_PROMPT_FOR_CHAT_MODEL.format(\n",
    "        user_prompt=question, functions=str(list_function)\n",
    "    )\n",
    "}\n",
    "]\n",
    "# 这里的functions是一个dict，变成str\n",
    "SYSTEM_PROMPT_FOR_CHAT_MODEL = \"\"\"\n",
    "    You are an expert in composing functions. You are given a question and a set of possible functions. \n",
    "    Based on the question, you will need to make one or more function/tool calls to achieve the purpose. \n",
    "    If none of the function can be used, point it out. If the given question lacks the parameters required by the function,\n",
    "    also point it out. You should only return the function call in tools call sections.\n",
    "    \"\"\""
   ]
  },
  {
   "cell_type": "code",
   "execution_count": 119,
   "metadata": {},
   "outputs": [
    {
     "data": {
      "text/plain": [
       "[{'role': 'user',\n",
       "  'content': \"Questions:\\n    Questions:What is the capital of Brazil?\\nHere is a list of functions in JSON format that you can invoke:\\n[{'name': 'country_info.largest_city', 'description': 'Fetch the largest city of a specified country.', 'parameters': {'type': 'dict', 'properties': {'country': {'type': 'string', 'description': 'Name of the country.'}}, 'required': ['country']}}, {'name': 'country_info.capital', 'description': 'Fetch the capital city of a specified country.', 'parameters': {'type': 'dict', 'properties': {'country': {'type': 'string', 'description': 'Name of the country.'}}, 'required': ['country']}}, {'name': 'country_info.population', 'description': 'Fetch the current population of a specified country.', 'parameters': {'type': 'dict', 'properties': {'country': {'type': 'string', 'description': 'Name of the country.'}}, 'required': ['country']}}]. \\n    Should you decide to return the function call(s),Put it in the format of [func1(params_name=params_value, params_name2=params_value2...), func2(params)]\\n\\n    NO other text MUST be included. \"}]"
      ]
     },
     "execution_count": 119,
     "metadata": {},
     "output_type": "execute_result"
    }
   ],
   "source": [
    "ernie_message_only_tool"
   ]
  },
  {
   "cell_type": "code",
   "execution_count": 120,
   "metadata": {},
   "outputs": [
    {
     "data": {
      "text/plain": [
       "[{'role': 'user',\n",
       "  'content': \"Questions:\\n    Questions:What is the capital of Brazil?\\nHere is a list of functions in JSON format that you can invoke:\\n[[{'name': 'country_info.largest_city', 'description': 'Fetch the largest city of a specified country.', 'parameters': {'type': 'dict', 'properties': {'country': {'type': 'string', 'description': 'Name of the country.'}}, 'required': ['country']}}, {'name': 'country_info.capital', 'description': 'Fetch the capital city of a specified country.', 'parameters': {'type': 'dict', 'properties': {'country': {'type': 'string', 'description': 'Name of the country.'}}, 'required': ['country']}}, {'name': 'country_info.population', 'description': 'Fetch the current population of a specified country.', 'parameters': {'type': 'dict', 'properties': {'country': {'type': 'string', 'description': 'Name of the country.'}}, 'required': ['country']}}]]. \\n    Should you decide to return the function call(s),Put it in the format of [func1(params_name=params_value, params_name2=params_value2...), func2(params)]\\n\\n    NO other text MUST be included. \"}]"
      ]
     },
     "execution_count": 120,
     "metadata": {},
     "output_type": "execute_result"
    }
   ],
   "source": [
    "ernie_message_list_tool"
   ]
  },
  {
   "cell_type": "code",
   "execution_count": 129,
   "metadata": {},
   "outputs": [],
   "source": [
    "ernie_response_only_tool = erniebot.ChatCompletion.create(\n",
    "                messages=ernie_message_only_tool,\n",
    "                system= SYSTEM_PROMPT_FOR_CHAT_MODEL,\n",
    "                model=\"ernie-4.0\",\n",
    "\n",
    "            )\n",
    "\n",
    "ernie_response_list_tool = erniebot.ChatCompletion.create(\n",
    "                messages=ernie_message_list_tool,\n",
    "                system= SYSTEM_PROMPT_FOR_CHAT_MODEL,\n",
    "                model=\"ernie-4.0\",\n",
    "\n",
    "            )"
   ]
  },
  {
   "cell_type": "code",
   "execution_count": 130,
   "metadata": {},
   "outputs": [
    {
     "data": {
      "text/plain": [
       "ChatCompletionResponse(rcode=200, rbody={'id': 'as-aqipasideb', 'object': 'chat.completion', 'created': 1718525108, 'result': '[country_info.capital(country=\"Brazil\")]', 'is_truncated': False, 'need_clear_history': False, 'finish_reason': 'normal', 'usage': {'prompt_tokens': 370, 'completion_tokens': 11, 'total_tokens': 381}}, rheaders={'Access-Control-Allow-Headers': 'Content-Type', 'Access-Control-Allow-Origin': '*', 'Appid': '78879075', 'Connection': 'keep-alive', 'Content-Encoding': 'gzip', 'Content-Type': 'application/json; charset=utf-8', 'Date': 'Sun, 16 Jun 2024 08:05:08 GMT', 'P3p': 'CP=\" OTI DSP COR IVA OUR IND COM \"', 'Server': 'Apache', 'Set-Cookie': 'BAIDUID=6C19B86631A1A6C4BC8D7C93CB278708:FG=1; expires=Thu, 31-Dec-37 23:55:55 GMT; max-age=2145916555; path=/; domain=.baidu.com; version=1', 'Statement': 'AI-generated', 'Vary': 'Accept-Encoding', 'X-Aipe-Self-Def': 'eb_total_tokens:381,prompt_tokens:370,id:as-aqipasideb', 'X-Baidu-Request-Id': '807be993d70c87c65c4e3c9999d96bab1000340', 'X-Openapi-Server-Timestamp': '1718525106', 'X-Ratelimit-Limit-Requests': '120', 'X-Ratelimit-Limit-Tokens': '120000', 'X-Ratelimit-Remaining-Requests': '119', 'X-Ratelimit-Remaining-Tokens': '119630', 'Content-Length': '208'})"
      ]
     },
     "execution_count": 130,
     "metadata": {},
     "output_type": "execute_result"
    }
   ],
   "source": [
    "ernie_response_only_tool"
   ]
  },
  {
   "cell_type": "code",
   "execution_count": 131,
   "metadata": {},
   "outputs": [
    {
     "data": {
      "text/plain": [
       "str"
      ]
     },
     "execution_count": 131,
     "metadata": {},
     "output_type": "execute_result"
    }
   ],
   "source": [
    "getted_result = ernie_response_only_tool.get_result()\n",
    "\n",
    "type(getted_result)"
   ]
  },
  {
   "cell_type": "code",
   "execution_count": 124,
   "metadata": {},
   "outputs": [
    {
     "data": {
      "text/plain": [
       "'[country_info.capital(country=\"Brazil\")]'"
      ]
     },
     "execution_count": 124,
     "metadata": {},
     "output_type": "execute_result"
    }
   ],
   "source": [
    "getted_result"
   ]
  },
  {
   "cell_type": "code",
   "execution_count": null,
   "metadata": {},
   "outputs": [],
   "source": []
  },
  {
   "cell_type": "code",
   "execution_count": 125,
   "metadata": {},
   "outputs": [
    {
     "data": {
      "text/plain": [
       "'```json\\n[\\n  {\\n    \"tool_call\": \"country_info.capital(country=\\'Brazil\\')\"\\n  }\\n]\\n```'"
      ]
     },
     "execution_count": 125,
     "metadata": {},
     "output_type": "execute_result"
    }
   ],
   "source": [
    "ernie_response_list_tool.get_result()"
   ]
  },
  {
   "cell_type": "code",
   "execution_count": 126,
   "metadata": {},
   "outputs": [
    {
     "name": "stdout",
     "output_type": "stream",
     "text": [
      "```json\n",
      "[\n",
      "  {\n",
      "    \"tool_call\": \"country_info.capital(country='Brazil')\"\n",
      "  }\n",
      "]\n",
      "```\n"
     ]
    }
   ],
   "source": [
    "print(ernie_response_list_tool.get_result())"
   ]
  },
  {
   "cell_type": "code",
   "execution_count": 128,
   "metadata": {},
   "outputs": [
    {
     "name": "stdout",
     "output_type": "stream",
     "text": [
      "<class 'str'> <class 'str'>\n",
      "[country_info.capital(country=\"Brazil\")]\n",
      "```json\n",
      "[\n",
      "  {\n",
      "    \"tool_call\": \"country_info.capital(country='Brazil')\"\n",
      "  }\n",
      "]\n",
      "```\n"
     ]
    }
   ],
   "source": [
    "print(type(ernie_response_only_tool.result), type(ernie_response_list_tool.result))\n",
    "print(ernie_response_only_tool.result)\n",
    "print(ernie_response_list_tool.result)"
   ]
  },
  {
   "cell_type": "code",
   "execution_count": 114,
   "metadata": {},
   "outputs": [
    {
     "name": "stdout",
     "output_type": "stream",
     "text": [
      "original_output \n",
      ": ```\n",
      "[geometry.calculate_area_circle(radius=5)]\n",
      "```\n",
      "cleaned_output: [geometry.calculate_area_circle(radius=5)]\n",
      "[geometry.calculate_area_circle(radius=5)]\n"
     ]
    }
   ],
   "source": [
    "### 清理ernie resposne\n",
    "\n",
    "# 假设这是你的原始输出\n",
    "original_output = getted_result = ernie_response_only_tool.get_result()\n",
    "print(f\"original_output \\n: {original_output}\")\n",
    "# 去除开头的'```\\n' 和结尾的'\\n```'\n",
    "cleaned_output = original_output.replace('```\\n', '').replace('\\n```', '')\n",
    "\n",
    "# 打印清理后的输出\n",
    "print(f\"cleaned_output: {cleaned_output}\")\n",
    "print(cleaned_output)"
   ]
  },
  {
   "cell_type": "code",
   "execution_count": 95,
   "metadata": {},
   "outputs": [
    {
     "name": "stdout",
     "output_type": "stream",
     "text": [
      "[geometry.calculate_area_circle(radius=5)]\n"
     ]
    }
   ],
   "source": [
    "type(response.choices[0].message.content)\n",
    "print(response.choices[0].message.content)\n"
   ]
  },
  {
   "cell_type": "code",
   "execution_count": 132,
   "metadata": {},
   "outputs": [],
   "source": [
    "import erniebot\n",
    "\n",
    "# List supported models\n",
    "models = erniebot.Model.list()"
   ]
  },
  {
   "cell_type": "code",
   "execution_count": 133,
   "metadata": {},
   "outputs": [
    {
     "data": {
      "text/plain": [
       "[('ernie-3.5', '文心大模型（ernie-3.5）'),\n",
       " ('ernie-turbo', '文心大模型（ernie-turbo）'),\n",
       " ('ernie-4.0', '文心大模型（ernie-4.0）'),\n",
       " ('ernie-3.5-8k', '文心大模型（ernie-3.5-8k）'),\n",
       " ('ernie-speed', ' 文心大模型（ernie-speed）'),\n",
       " ('ernie-speed-128k', ' 文心大模型（ernie-speed-128k）'),\n",
       " ('ernie-tiny-8k', ' 文心大模型（ernie-tiny-8k）'),\n",
       " ('ernie-char-8k', ' 文心大模型（ernie-char-8k）'),\n",
       " ('ernie-text-embedding', '文心百中语义模型'),\n",
       " ('ernie-vilg-v2', '文心一格模型')]"
      ]
     },
     "execution_count": 133,
     "metadata": {},
     "output_type": "execute_result"
    }
   ],
   "source": [
    "models"
   ]
  },
  {
   "cell_type": "code",
   "execution_count": 6,
   "metadata": {},
   "outputs": [],
   "source": [
    "import json\n",
    "import argparse, json, os\n",
    "from tqdm import tqdm\n",
    "from model_handler.handler_map import handler_map\n",
    "from model_handler.model_style import ModelStyle\n",
    "from model_handler.constant import USE_COHERE_OPTIMIZATION\n",
    "\n",
    "def convert_yewu_jsonl_to_BFCL_jsonl(originial_yewu_file, coverted_simple_ast_test, coverted_multiple_ast_test):\n",
    "    with open(originial_yewu_file, 'r') as originial_file, \\\n",
    "         open(coverted_simple_ast_test, 'w') as simple_file, \\\n",
    "         open(coverted_multiple_ast_test, 'w') as multiple_file:\n",
    "        \n",
    "        data = originial_file.readlines()\n",
    "\n",
    "        for line in data:\n",
    "            line = json.loads(line) \n",
    "            if len(line['tools']) > 1: # multiple\n",
    "                this_line = {\"question\": \"\", \"function\": []}\n",
    "                for tool in line[\"tools\"]:\n",
    "                    this_line[\"function\"].append(tool[\"function\"])\n",
    "                multiple_file.write(json.dumps(this_line) + \"\\n\")\n",
    "            else: # simple\n",
    "                this_line = {\"question\": \"\", \"function\": line[\"tools\"][0][\"function\"]}\n",
    "                simple_file.write(json.dumps(this_line) + \"\\n\")\n",
    "\n",
    "# Example usage:\n",
    "originial_yewu_file = '/Users/gaoyukun01/E/job4_folder/gorilla_justin/berkeley-function-call-leaderboard/yewu.jsonl'\n",
    "coverted_simple_ast_test = '/Users/gaoyukun01/E/job4_folder/gorilla_justin/berkeley-function-call-leaderboard/coverted_simple_ast_test.jsonl'\n",
    "coverted_multiple_ast_test = '/Users/gaoyukun01/E/job4_folder/gorilla_justin/berkeley-function-call-leaderboard/coverted_multiple_ast_test.jsonl'\n",
    "\n",
    "\n",
    "convert_yewu_jsonl_to_BFCL_jsonl(originial_yewu_file, coverted_simple_ast_test, coverted_multiple_ast_test)\n"
   ]
  },
  {
   "cell_type": "code",
   "execution_count": null,
   "metadata": {},
   "outputs": [],
   "source": []
  }
 ],
 "metadata": {
  "kernelspec": {
   "display_name": "BFCL",
   "language": "python",
   "name": "python3"
  },
  "language_info": {
   "codemirror_mode": {
    "name": "ipython",
    "version": 3
   },
   "file_extension": ".py",
   "mimetype": "text/x-python",
   "name": "python",
   "nbconvert_exporter": "python",
   "pygments_lexer": "ipython3",
   "version": "3.10.13"
  }
 },
 "nbformat": 4,
 "nbformat_minor": 2
}
